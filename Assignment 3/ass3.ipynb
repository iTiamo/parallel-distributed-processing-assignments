{
 "cells": [
  {
   "cell_type": "code",
   "execution_count": 1,
   "metadata": {},
   "outputs": [],
   "source": [
    "## Setting the JAVA_HOME environment variable to my JRE 8 runtime, because later Java versions aren't supported by Spark 2\n",
    "import os\n",
    "os.environ['JAVA_HOME'] = \"C:\\\\Program Files\\\\Java\\\\jre1.8.0_251\""
   ]
  },
  {
   "cell_type": "code",
   "execution_count": 2,
   "metadata": {},
   "outputs": [],
   "source": [
    "import findspark\n",
    "\n",
    "findspark.init()"
   ]
  },
  {
   "cell_type": "code",
   "execution_count": null,
   "metadata": {},
   "outputs": [],
   "source": [
    "from pyspark.sql import SparkSession\n",
    "from pyspark.sql.types import *\n",
    "from pyspark.sql.functions import *\n",
    "\n",
    "spark = SparkSession.builder \\\n",
    "    .master(\"local\") \\\n",
    "    .appName(\"Linear Regression Model\") \\\n",
    "    .config(\"spark.executor.memory\", \"1gb\") \\\n",
    "    .getOrCreate()\n",
    "    \n",
    "sc = spark.sparkContext"
   ]
  },
  {
   "cell_type": "code",
   "execution_count": null,
   "metadata": {},
   "outputs": [],
   "source": [
    "df = spark.read.format(\"CSV\").option(\"header\", \"true\").load(\".\\\\Titanic\\\\titanic.csv\")\n",
    "\n",
    "df = df.withColumn(\"Survived\", df[\"Survived\"].cast(IntegerType())) \\\n",
    "    .withColumn(\"Pclass\", df[\"Pclass\"].cast(IntegerType())) \\\n",
    "    .withColumn(\"Name\", df[\"Name\"].cast(StringType())) \\\n",
    "    .withColumn(\"Sex\", df[\"Sex\"].cast(StringType())) \\\n",
    "    .withColumn(\"Age\", df[\"Age\"].cast(IntegerType())) \\\n",
    "    .withColumn(\"Siblings/Spouses Aboard\", df[\"Siblings/Spouses Aboard\"].cast(IntegerType())) \\\n",
    "    .withColumn(\"Parents/Children Aboard\", df[\"Parents/Children Aboard\"].cast(IntegerType())) \\\n",
    "    .withColumn(\"Fare\", df[\"Fare\"].cast(FloatType())) \\"
   ]
  },
  {
   "cell_type": "code",
   "execution_count": null,
   "metadata": {},
   "outputs": [],
   "source": [
    "df.show()"
   ]
  },
  {
   "cell_type": "code",
   "execution_count": null,
   "metadata": {},
   "outputs": [],
   "source": [
    "### Answering Question A\n",
    "\n",
    "dfA = df.select(\"Survived\", \"Pclass\", \"Sex\")\n",
    "dfA = dfA.groupBy(\"Sex\", \"Pclass\").avg(\"Survived\")\n",
    "\n",
    "dfA.show()"
   ]
  },
  {
   "cell_type": "code",
   "execution_count": null,
   "metadata": {},
   "outputs": [],
   "source": [
    "### Answering Question C\n",
    "\n",
    "dfC = df.select(\"Pclass\", \"Fare\")\n",
    "dfC = dfC.groupBy(\"Pclass\").avg(\"Fare\")\n",
    "\n",
    "dfC.show()"
   ]
  },
  {
   "cell_type": "code",
   "execution_count": null,
   "metadata": {},
   "outputs": [],
   "source": []
  }
 ],
 "metadata": {
  "kernelspec": {
   "display_name": "Python 3",
   "language": "python",
   "name": "python3"
  },
  "language_info": {
   "codemirror_mode": {
    "name": "ipython",
    "version": 3
   },
   "file_extension": ".py",
   "mimetype": "text/x-python",
   "name": "python",
   "nbconvert_exporter": "python",
   "pygments_lexer": "ipython3",
   "version": "3.7.6"
  }
 },
 "nbformat": 4,
 "nbformat_minor": 4
}
